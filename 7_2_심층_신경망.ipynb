{
  "cells": [
    {
      "cell_type": "markdown",
      "metadata": {
        "id": "view-in-github",
        "colab_type": "text"
      },
      "source": [
        "<a href=\"https://colab.research.google.com/github/jungyoojang/MachineLearning/blob/main/7_2_%EC%8B%AC%EC%B8%B5_%EC%8B%A0%EA%B2%BD%EB%A7%9D.ipynb\" target=\"_parent\"><img src=\"https://colab.research.google.com/assets/colab-badge.svg\" alt=\"Open In Colab\"/></a>"
      ]
    },
    {
      "cell_type": "markdown",
      "metadata": {
        "id": "iNFOeMfl3tIu"
      },
      "source": [
        "# 심층 신경망"
      ]
    },
    {
      "cell_type": "markdown",
      "source": [
        "2개 이상의 층을 포함한 신경망\n",
        "\n",
        "종종 다층 인공 신경망, 심층 신경망, 딥러닝을 같은 의미로 사용"
      ],
      "metadata": {
        "id": "TrJjDitANPhe"
      }
    },
    {
      "cell_type": "code",
      "execution_count": null,
      "metadata": {
        "id": "ZT8SDtZVv41l"
      },
      "outputs": [],
      "source": [
        "# 실행마다 동일한 결과를 얻기 위해 케라스에 랜덤 시드를 사용하고 텐서플로 연산을 결정적으로 만듭니다.\n",
        "import tensorflow as tf\n",
        "\n",
        "tf.keras.utils.set_random_seed(42)\n",
        "tf.config.experimental.enable_op_determinism()"
      ]
    },
    {
      "cell_type": "markdown",
      "metadata": {
        "id": "dPE5XsFhcfVD"
      },
      "source": [
        "## 2개의 층"
      ]
    },
    {
      "cell_type": "markdown",
      "source": [
        "데이터 준비"
      ],
      "metadata": {
        "id": "nEXHH7kmNcaL"
      }
    },
    {
      "cell_type": "code",
      "execution_count": null,
      "metadata": {
        "id": "4sNOMcdaFVKa"
      },
      "outputs": [],
      "source": [
        "from tensorflow import keras\n",
        "\n",
        "(train_input, train_target), (test_input, test_target) = keras.datasets.fashion_mnist.load_data()"
      ]
    },
    {
      "cell_type": "code",
      "execution_count": null,
      "metadata": {
        "id": "aJJiRMa6FkWx"
      },
      "outputs": [],
      "source": [
        "from sklearn.model_selection import train_test_split\n",
        "\n",
        "train_scaled = train_input / 255.0\n",
        "train_scaled = train_scaled.reshape(-1, 28*28)\n",
        "\n",
        "train_scaled, val_scaled, train_target, val_target = train_test_split(\n",
        "    train_scaled, train_target, test_size=0.2, random_state=42)"
      ]
    },
    {
      "cell_type": "markdown",
      "source": [
        "2개의 층을 이용해서 심층 신경망을 만들어보자"
      ],
      "metadata": {
        "id": "r3t_862rNnjB"
      }
    },
    {
      "cell_type": "markdown",
      "source": [
        "**은닉층**\n",
        "\n",
        "입력층과 출력층 사이에 있는 모든 층\n",
        "\n",
        "출력층에서는 소프트맥스나 시그모이드 함수를 써야 함\n",
        "\n",
        "그러나 은닉층은 활성화 함수의 선택이 자유로움\n",
        "\n",
        "**왜 은닉층에 활성화 함수를 적용하는가?**\n",
        "\n",
        "활성화 함수없이 은닉층만 있다면 의미가 없기 때문"
      ],
      "metadata": {
        "id": "ECfAL7B5O8J2"
      }
    },
    {
      "cell_type": "markdown",
      "source": [
        "dense1: 은닉층, 100개의 뉴런을 가지는 밀집층\n",
        "\n",
        "은닉층의 뉴런 개수를 정하는 데는 특별한 기준이 없음\n",
        "\n",
        "따라서 몇 개의 뉴런을 두어야 할지 판단하기 위해서는 상당한 경험이 필요함\n",
        "\n",
        "한 가지 제약 사항은 적어도 출력층의 뉴런보다는 많게 만들어야 함"
      ],
      "metadata": {
        "id": "-ccYir2cPi7z"
      }
    },
    {
      "cell_type": "markdown",
      "source": [
        "dense2: 출력층, 10개의 클래스를 분류하므로 10개의 뉴런을 설정하고 활성화 함수로 소프트맥스 함수를 지정\n",
        "\n",
        "또한 첫 번째 밀집층이 아니므로 input_shape를 지정할 필요가 없음"
      ],
      "metadata": {
        "id": "Ln-_Dwe6P1DD"
      }
    },
    {
      "cell_type": "code",
      "execution_count": null,
      "metadata": {
        "id": "MCZWQiEwF6MD"
      },
      "outputs": [],
      "source": [
        "dense1 = keras.layers.Dense(100, activation='sigmoid', input_shape=(784,)) # 그림만 보고 코딩 가능해야 함\n",
        "dense2 = keras.layers.Dense(10, activation='softmax')"
      ]
    },
    {
      "cell_type": "markdown",
      "metadata": {
        "id": "Agy5gCVhcrm-"
      },
      "source": [
        "## 심층 신경망 만들기"
      ]
    },
    {
      "cell_type": "code",
      "execution_count": null,
      "metadata": {
        "id": "xmWL7kOoGB4P"
      },
      "outputs": [],
      "source": [
        "model = keras.Sequential([dense1, dense2])"
      ]
    },
    {
      "cell_type": "markdown",
      "source": [
        "인공 신경망의 강력한 성능은 이렇게 층을 리스트로 추가하여 입력 데이터에 대해 연속적인 학습을 진행하는 능력에서 나옴"
      ],
      "metadata": {
        "id": "t3COdQ-zQM8q"
      }
    },
    {
      "cell_type": "code",
      "execution_count": null,
      "metadata": {
        "colab": {
          "base_uri": "https://localhost:8080/"
        },
        "id": "em0xDl8qa12J",
        "outputId": "adaa2f21-5349-45d2-ede0-9980d417033f"
      },
      "outputs": [
        {
          "output_type": "stream",
          "name": "stdout",
          "text": [
            "Model: \"sequential\"\n",
            "_________________________________________________________________\n",
            " Layer (type)                Output Shape              Param #   \n",
            "=================================================================\n",
            " dense (Dense)               (None, 100)               78500     \n",
            "                                                                 \n",
            " dense_1 (Dense)             (None, 10)                1010      \n",
            "                                                                 \n",
            "=================================================================\n",
            "Total params: 79510 (310.59 KB)\n",
            "Trainable params: 79510 (310.59 KB)\n",
            "Non-trainable params: 0 (0.00 Byte)\n",
            "_________________________________________________________________\n"
          ]
        }
      ],
      "source": [
        "model.summary() #Param 계산할 수 있어야 함."
      ]
    },
    {
      "cell_type": "markdown",
      "source": [
        "Model: \"sequentia\" <- 모델 이름"
      ],
      "metadata": {
        "id": "ioGgIMpJQaw0"
      }
    },
    {
      "cell_type": "markdown",
      "source": [
        "이 모델에 들어 있는 층이 순서대로 나열\n",
        "\n",
        "층마다 층 이름, 클래스, 출력 크기, 모델 파라미터 개수가 출력\n",
        "\n",
        "층을 만들 때 name 매개변수로 이름 지정 가능\n",
        "\n",
        "미지정시 자동으로 dense라고 이름을 붙임"
      ],
      "metadata": {
        "id": "hlD9slx4QknV"
      }
    },
    {
      "cell_type": "markdown",
      "source": [
        "출력 크기의 (None, 100)에서 첫 번째 차원은 샘플의 개수를 나타냄\n",
        "\n",
        "현재 샘플 개수가 아직 정의되어 있지 않기 때문에 None임\n",
        "\n",
        "(784,)은 한 샘플의 크기를 뜻하는 거지 샘플의 수를 뜻하지 않음\n",
        "\n",
        "케라스 모델의 fit() 메서드에 훈련 데이터를 주입하면 이 데이터를 한 번에 모두 사용하지 않고 잘게 나누어 여러 번에 걸쳐 경사 하강법 단계를 수행\n",
        "\n",
        "즉, 미니배치 경사 하강법을 사용\n",
        "\n",
        "케라스의 기본 미니매치 크기는 32이며 fit() 메서드에서 batch_size 매개변수로 바꿀 수 있음\n",
        "\n",
        "따라서 샘플 개수를 고정하지 않고 어떤 배치 크기에도 유연학 대응할 수 있도록 None으로 설정\n",
        "\n",
        "이렇게 신경망 중에 입력되거나 출력되는 배열의 첫 번째 차원을 배치 차원이라고 함\n",
        "\n",
        "두 번째 차원은 뉴런 개수 또는 출력 개수\n",
        "\n",
        "즉, 샘플마다 784개의 픽셀값이 은닉층을 통과하면서 100개의 특성으로 압축됨"
      ],
      "metadata": {
        "id": "5Qdyta84RIKQ"
      }
    },
    {
      "cell_type": "markdown",
      "source": [
        "모델 파라미터 개수\n",
        "\n",
        "(입력값 개수 + 1) * 뉴런 개수"
      ],
      "metadata": {
        "id": "iYBBVTGzSN7W"
      }
    },
    {
      "cell_type": "markdown",
      "metadata": {
        "id": "qAi41rBTdk7k"
      },
      "source": [
        "## 층을 추가하는 다른 방법"
      ]
    },
    {
      "cell_type": "markdown",
      "source": [
        "따로 Dense 클래스를 만들지 않고\n",
        "\n",
        "추가되는 층을 한눈에 손쉽게 알아볼 수 있음\n",
        "\n",
        "모델의 이름과는 다르게 층의 이름은 반드시 영문이어야 함"
      ],
      "metadata": {
        "id": "8yH6ByTpSWL8"
      }
    },
    {
      "cell_type": "markdown",
      "source": [
        "model = keras.Sequential([dense1, dense2])"
      ],
      "metadata": {
        "id": "wQ7CLwO1Sjxr"
      }
    },
    {
      "cell_type": "code",
      "execution_count": null,
      "metadata": {
        "id": "0XeV6V4ha3I8"
      },
      "outputs": [],
      "source": [
        "model = keras.Sequential([\n",
        "    keras.layers.Dense(100, activation='sigmoid', input_shape=(784,), name='hidden'),\n",
        "    keras.layers.Dense(10, activation='softmax', name='output')\n",
        "], name='패션 MNIST 모델')"
      ]
    },
    {
      "cell_type": "code",
      "execution_count": null,
      "metadata": {
        "colab": {
          "base_uri": "https://localhost:8080/"
        },
        "id": "bwXDLSOWbm3L",
        "outputId": "362978e7-871c-463e-98a9-03c681e486bf"
      },
      "outputs": [
        {
          "output_type": "stream",
          "name": "stdout",
          "text": [
            "Model: \"패션 MNIST 모델\"\n",
            "_________________________________________________________________\n",
            " Layer (type)                Output Shape              Param #   \n",
            "=================================================================\n",
            " hidden (Dense)              (None, 100)               78500     \n",
            "                                                                 \n",
            " output (Dense)              (None, 10)                1010      \n",
            "                                                                 \n",
            "=================================================================\n",
            "Total params: 79510 (310.59 KB)\n",
            "Trainable params: 79510 (310.59 KB)\n",
            "Non-trainable params: 0 (0.00 Byte)\n",
            "_________________________________________________________________\n"
          ]
        }
      ],
      "source": [
        "model.summary()"
      ]
    },
    {
      "cell_type": "markdown",
      "source": [
        "편리하나 아주 많은 층을 추가하려면 Sequential 클래스의 생성자가 매우 길어짐\n",
        "\n",
        "또 조건에 따라 층을 추가할 수도 없음"
      ],
      "metadata": {
        "id": "JqEpj94lSu_H"
      }
    },
    {
      "cell_type": "markdown",
      "source": [
        "**층을 추가하는 또 다른 방법**"
      ],
      "metadata": {
        "id": "KLQwV-rPS2MR"
      }
    },
    {
      "cell_type": "code",
      "execution_count": null,
      "metadata": {
        "id": "yZSAxgZCbax7"
      },
      "outputs": [],
      "source": [
        "model = keras.Sequential()\n",
        "model.add(keras.layers.Dense(100, activation='sigmoid', input_shape=(784,)))\n",
        "model.add(keras.layers.Dense(10, activation='softmax'))"
      ]
    },
    {
      "cell_type": "code",
      "execution_count": null,
      "metadata": {
        "colab": {
          "base_uri": "https://localhost:8080/"
        },
        "id": "bW2coaNQboe5",
        "outputId": "74f99947-3fa2-473c-f326-ce72b5389f63"
      },
      "outputs": [
        {
          "output_type": "stream",
          "name": "stdout",
          "text": [
            "Model: \"sequential_1\"\n",
            "_________________________________________________________________\n",
            " Layer (type)                Output Shape              Param #   \n",
            "=================================================================\n",
            " dense_2 (Dense)             (None, 100)               78500     \n",
            "                                                                 \n",
            " dense_3 (Dense)             (None, 10)                1010      \n",
            "                                                                 \n",
            "=================================================================\n",
            "Total params: 79510 (310.59 KB)\n",
            "Trainable params: 79510 (310.59 KB)\n",
            "Non-trainable params: 0 (0.00 Byte)\n",
            "_________________________________________________________________\n"
          ]
        }
      ],
      "source": [
        "model.summary() # summary만 보고 모델 코딩 가능해야함"
      ]
    },
    {
      "cell_type": "code",
      "execution_count": null,
      "metadata": {
        "colab": {
          "base_uri": "https://localhost:8080/"
        },
        "id": "kkYrPJembpYk",
        "outputId": "9a543a82-9b7d-40b0-99c9-387c6773531a"
      },
      "outputs": [
        {
          "output_type": "stream",
          "name": "stdout",
          "text": [
            "Epoch 1/5\n",
            "1500/1500 [==============================] - 11s 3ms/step - loss: 0.5710 - accuracy: 0.8064\n",
            "Epoch 2/5\n",
            "1500/1500 [==============================] - 6s 4ms/step - loss: 0.4132 - accuracy: 0.8509\n",
            "Epoch 3/5\n",
            "1500/1500 [==============================] - 4s 3ms/step - loss: 0.3776 - accuracy: 0.8646\n",
            "Epoch 4/5\n",
            "1500/1500 [==============================] - 4s 3ms/step - loss: 0.3530 - accuracy: 0.8732\n",
            "Epoch 5/5\n",
            "1500/1500 [==============================] - 5s 3ms/step - loss: 0.3344 - accuracy: 0.8782\n"
          ]
        },
        {
          "output_type": "execute_result",
          "data": {
            "text/plain": [
              "<keras.src.callbacks.History at 0x791e73b15330>"
            ]
          },
          "metadata": {},
          "execution_count": 14
        }
      ],
      "source": [
        "# 모델 훈련\n",
        "model.compile(loss='sparse_categorical_crossentropy', metrics='accuracy')\n",
        "model.fit(train_scaled, train_target, epochs=5)"
      ]
    },
    {
      "cell_type": "code",
      "source": [
        "# 모델 평가\n",
        "model.evaluate(val_scaled, val_target)"
      ],
      "metadata": {
        "colab": {
          "base_uri": "https://localhost:8080/"
        },
        "id": "TVCQzsGQTHJ9",
        "outputId": "9fc795aa-e675-4e2b-c4a8-455aeb97e9cd"
      },
      "execution_count": null,
      "outputs": [
        {
          "output_type": "stream",
          "name": "stdout",
          "text": [
            "375/375 [==============================] - 1s 2ms/step - loss: 0.3607 - accuracy: 0.8669\n"
          ]
        },
        {
          "output_type": "execute_result",
          "data": {
            "text/plain": [
              "[0.36067989468574524, 0.8669166564941406]"
            ]
          },
          "metadata": {},
          "execution_count": 15
        }
      ]
    },
    {
      "cell_type": "markdown",
      "source": [
        "합성 함수를 바꿔보자\n",
        "\n",
        "초창기 인공 신경망의 은닉층에 많이 사용된 함수는 시그모이드이나 단점이 있음\n",
        "\n",
        "이 함수의 오른쪽과 왼쪽 끝으로 갈수록 그래프가 누워있기 때문에 올바른 출력을 만드는 데 신속하게 대응을 하지 못함\n",
        "\n",
        "특히 층이 많은 심층신경망일수록 그 효과가 누적되어 학습을 더 어렵게 함\n",
        "\n",
        "이를 개선하기 위해 다른 조율의 활성화 함수인 렐루 함수가 제안됨\n",
        "\n"
      ],
      "metadata": {
        "id": "uMIeDmLfTMot"
      }
    },
    {
      "cell_type": "markdown",
      "metadata": {
        "id": "_dfXJDhwcyAK"
      },
      "source": [
        "## 렐루 활성화 함수"
      ]
    },
    {
      "cell_type": "markdown",
      "source": [
        "입력이 양수일 때, 입력을 그대로 통과하고 음수일 경우 0으로 설정함\n",
        "\n",
        "렐루 함수는 max(0, z)와 같이 쓸 수도 있음\n",
        "\n",
        "이 함수는 z가 0보다 크면, z를 출력하고 z가 0보다 작으면 0을 출력\n",
        "\n",
        "렐루 함수는 특히 이미지 처리에 좋은 성능을 낸다고 알려짐"
      ],
      "metadata": {
        "id": "WMTji9OjXXpu"
      }
    },
    {
      "cell_type": "markdown",
      "source": [
        "**Flatten 층**\n",
        "\n",
        "케라스에서 제공하는 편리한 층\n",
        "\n",
        "지금까지 2차원 이상의 넘파이 배열의 데이터를 reshape() 메서드를 이용해 1차원으로 변경함\n",
        "\n",
        "Flatten 클래스는 배치 차원을 제외하고 나머지 입력 차원을 모두 일렬로 펼치는 역할만 함\n",
        "\n",
        "데이터의 첫 번째 축(0번 축)을 배치 축(batch axis)또는 배치 차원이라고 부름\n",
        "\n",
        "입력에 곱해지는 가중치나 절편이 없어서 성능에 기여하는 것은 없음\n",
        "\n",
        "그러나 Flateen 클래스는 입력층과 은닉층 사이에 추가되기 때문에 층이라 부름\n",
        "\n",
        "하지만 Flatten 클래스는 학습하는 층이 아니므로 이 신경망의 깊이가 3인 신경망이라고 하지는 않음\n"
      ],
      "metadata": {
        "id": "cPdsRFgJX0XG"
      }
    },
    {
      "cell_type": "code",
      "execution_count": null,
      "metadata": {
        "id": "dG7yF8g6b062"
      },
      "outputs": [],
      "source": [
        "model = keras.Sequential()\n",
        "model.add(keras.layers.Flatten(input_shape=(28, 28)))\n",
        "model.add(keras.layers.Dense(100, activation='relu'))\n",
        "model.add(keras.layers.Dense(10, activation='softmax'))"
      ]
    },
    {
      "cell_type": "code",
      "execution_count": null,
      "metadata": {
        "colab": {
          "base_uri": "https://localhost:8080/"
        },
        "id": "zHogWhu6g90a",
        "outputId": "f80cdb62-08fb-49b7-96bb-0edfcd61fecb"
      },
      "outputs": [
        {
          "output_type": "stream",
          "name": "stdout",
          "text": [
            "Model: \"sequential_2\"\n",
            "_________________________________________________________________\n",
            " Layer (type)                Output Shape              Param #   \n",
            "=================================================================\n",
            " flatten (Flatten)           (None, 784)               0         \n",
            "                                                                 \n",
            " dense_4 (Dense)             (None, 100)               78500     \n",
            "                                                                 \n",
            " dense_5 (Dense)             (None, 10)                1010      \n",
            "                                                                 \n",
            "=================================================================\n",
            "Total params: 79510 (310.59 KB)\n",
            "Trainable params: 79510 (310.59 KB)\n",
            "Non-trainable params: 0 (0.00 Byte)\n",
            "_________________________________________________________________\n"
          ]
        }
      ],
      "source": [
        "model.summary()"
      ]
    },
    {
      "cell_type": "markdown",
      "source": [
        "첫 번째 등장하는 Flatten 클래스에 포함된 모델 파라미터는 0개\n",
        "\n",
        "케라스의 Flatten층을 신경망 모델에 추가하면 입력값의 차원을 짐작할 수 있음\n",
        "\n",
        "케라스 API는 입력 데이터에 대한 전처리 과정을 될 수 있으면 모델에 포함시킴"
      ],
      "metadata": {
        "id": "wJDY91ulYhHd"
      }
    },
    {
      "cell_type": "markdown",
      "source": [
        "훈련 데이터 재생성\n",
        "\n",
        "이전과 다른점은 reshape()메서드를 사용하지 않음"
      ],
      "metadata": {
        "id": "pfQoeXvMY0jh"
      }
    },
    {
      "cell_type": "code",
      "execution_count": null,
      "metadata": {
        "id": "JfPe_ruQdhqA"
      },
      "outputs": [],
      "source": [
        "(train_input, train_target), (test_input, test_target) = keras.datasets.fashion_mnist.load_data()\n",
        "\n",
        "train_scaled = train_input / 255.0\n",
        "\n",
        "train_scaled, val_scaled, train_target, val_target = train_test_split(\n",
        "    train_scaled, train_target, test_size=0.2, random_state=42)"
      ]
    },
    {
      "cell_type": "code",
      "execution_count": null,
      "metadata": {
        "colab": {
          "base_uri": "https://localhost:8080/"
        },
        "id": "9PGejuuhdvvk",
        "outputId": "bd607886-e7bf-4f42-dc5c-ef8b407e03b5"
      },
      "outputs": [
        {
          "output_type": "stream",
          "name": "stdout",
          "text": [
            "Epoch 1/5\n",
            "1500/1500 [==============================] - 5s 3ms/step - loss: 0.5290 - accuracy: 0.8113\n",
            "Epoch 2/5\n",
            "1500/1500 [==============================] - 5s 3ms/step - loss: 0.3920 - accuracy: 0.8576\n",
            "Epoch 3/5\n",
            "1500/1500 [==============================] - 5s 3ms/step - loss: 0.3525 - accuracy: 0.8726\n",
            "Epoch 4/5\n",
            "1500/1500 [==============================] - 4s 3ms/step - loss: 0.3301 - accuracy: 0.8821\n",
            "Epoch 5/5\n",
            "1500/1500 [==============================] - 5s 3ms/step - loss: 0.3141 - accuracy: 0.8867\n"
          ]
        },
        {
          "output_type": "execute_result",
          "data": {
            "text/plain": [
              "<keras.src.callbacks.History at 0x791e485923b0>"
            ]
          },
          "metadata": {},
          "execution_count": 19
        }
      ],
      "source": [
        "model.compile(loss='sparse_categorical_crossentropy', metrics='accuracy')\n",
        "\n",
        "model.fit(train_scaled, train_target, epochs=5)"
      ]
    },
    {
      "cell_type": "markdown",
      "source": [
        "시그모이드 함수를 사용했을 때 보다 약간 성능이 향상됨"
      ],
      "metadata": {
        "id": "SfIIp8AVZvbf"
      }
    },
    {
      "cell_type": "code",
      "execution_count": null,
      "metadata": {
        "colab": {
          "base_uri": "https://localhost:8080/"
        },
        "id": "lVYLpnjeep4y",
        "outputId": "df8b5920-512f-4590-842c-e249f6fbcb3b"
      },
      "outputs": [
        {
          "output_type": "stream",
          "name": "stdout",
          "text": [
            "375/375 [==============================] - 1s 2ms/step - loss: 0.3683 - accuracy: 0.8726\n"
          ]
        },
        {
          "output_type": "execute_result",
          "data": {
            "text/plain": [
              "[0.3683287501335144, 0.8725833296775818]"
            ]
          },
          "metadata": {},
          "execution_count": 20
        }
      ],
      "source": [
        "model.evaluate(val_scaled, val_target)"
      ]
    },
    {
      "cell_type": "markdown",
      "metadata": {
        "id": "3YtLsmGAoavz"
      },
      "source": [
        "## 옵티마이저"
      ]
    },
    {
      "cell_type": "markdown",
      "source": [
        "신경망의 가중치와 절편을 학습하기 위한 알고리즘 또는 방법\n",
        "\n",
        "사용할 경사 하강법 알고리즘과 그 파라미터를 지정하는 매개변수"
      ],
      "metadata": {
        "id": "S3UrExd6ZeAn"
      }
    },
    {
      "cell_type": "markdown",
      "source": [
        "신경망에는 하이퍼파라미터가 많음\n",
        "\n",
        "추가할 은닉층의 개수, 은닉층의 뉴런 개수, 사용할 활성화 함수, 사용할 층의 종류,\n",
        "\n",
        "fit 메서드의 미니배치 개수, epochs 매개변수\n",
        "\n",
        "complie() 메서드의 경사 하강법 알고리즘도 하이퍼파라미터\n",
        "\n",
        "케라스의 기본 세팅된 경사 하강법 알고리즘은 RMSprop이고 RmSprop의 학습률 또한 하이퍼하라미터\n",
        "\n",
        "케라스는 다양한 종류의 경사 하강법 알고리즘(4-2절 참고)을 제공하여 이들을 옵티마이저라고 함"
      ],
      "metadata": {
        "id": "55ddNyloZlhh"
      }
    },
    {
      "cell_type": "markdown",
      "source": [
        "SGD 경사하강법 최적화\n",
        "\n",
        "학습률 조절\n",
        "\n",
        "sgd = keras.optimizers.SGD(learning_rate=0.1)#기본값은 0.01"
      ],
      "metadata": {
        "id": "S-OxkR9EaF8r"
      }
    },
    {
      "cell_type": "markdown",
      "source": [
        "**모멘템 최적화**\n",
        "\n",
        "모멘텀(관성, 운동량) 조절\n",
        "\n",
        "sgd = keras.optimizers.SGD(momentum=0.9)#기본값은 0\n",
        "\n",
        "새로운 가중치와 절편을 계산할 때, 과거의 가중치와 절편의 변화량을 어느 정도 반영할 것인지 결정함\n",
        "\n",
        "간단히 말하면 한 번에 이동하는 가중치와 절편의 크기에 영향을 줌\n",
        "\n",
        "여기서 표시된 loss는 절대 제곱 오차"
      ],
      "metadata": {
        "id": "gIauEuWlacte"
      }
    },
    {
      "cell_type": "markdown",
      "source": [
        "**네스테로프 모멘텀 최적화**\n",
        "\n",
        "sgd = keras.optimizers.SGD(momentum=0.9, nesterov=True)#기본값은 0\n",
        "\n",
        "모멘텀 최적화를 2번 반복하여 구현"
      ],
      "metadata": {
        "id": "qSlRKpyGaztN"
      }
    },
    {
      "cell_type": "markdown",
      "source": [
        "옵티마이저는 자세히는 X 쓰는 방법과 대략적인 개념만 알기"
      ],
      "metadata": {
        "id": "U5FRNNn3b91r"
      }
    },
    {
      "cell_type": "markdown",
      "source": [
        "**적응적 학습률**\n"
      ],
      "metadata": {
        "id": "aDVFJYiWbD7A"
      }
    },
    {
      "cell_type": "markdown",
      "source": [
        "**Adagrad**\n",
        "\n",
        "그레이언트 제곱을 누적하여 학습률을 나눔\n",
        "\n",
        "누적 초기값은 initial_accumulator_value"
      ],
      "metadata": {
        "id": "5ccls6QwbHpO"
      }
    },
    {
      "cell_type": "markdown",
      "source": [
        "**RMSprop**\n"
      ],
      "metadata": {
        "id": "jC2kHUbebQqu"
      }
    },
    {
      "cell_type": "markdown",
      "source": [
        "**Adam**\n",
        "\n",
        "모멘텀 최적화와 RMSprop의 장점을 접목한 것"
      ],
      "metadata": {
        "id": "35qzWnufbaMC"
      }
    },
    {
      "cell_type": "code",
      "execution_count": null,
      "metadata": {
        "id": "NxVj04Haocwa"
      },
      "outputs": [],
      "source": [
        "model.compile(optimizer='sgd', loss='sparse_categorical_crossentropy', metrics='accuracy')"
      ]
    },
    {
      "cell_type": "code",
      "execution_count": null,
      "metadata": {
        "id": "1426O4G8Hpfi"
      },
      "outputs": [],
      "source": [
        "sgd = keras.optimizers.SGD()\n",
        "model.compile(optimizer=sgd, loss='sparse_categorical_crossentropy', metrics='accuracy')"
      ]
    },
    {
      "cell_type": "code",
      "execution_count": null,
      "metadata": {
        "id": "Sh-HDiULlp18"
      },
      "outputs": [],
      "source": [
        "sgd = keras.optimizers.SGD(learning_rate=0.1)"
      ]
    },
    {
      "cell_type": "code",
      "execution_count": null,
      "metadata": {
        "id": "uF1XolBXsl3a"
      },
      "outputs": [],
      "source": [
        "sgd = keras.optimizers.SGD(momentum=0.9, nesterov=True)"
      ]
    },
    {
      "cell_type": "code",
      "execution_count": null,
      "metadata": {
        "id": "Hy2MENbL170j"
      },
      "outputs": [],
      "source": [
        "adagrad = keras.optimizers.Adagrad()\n",
        "model.compile(optimizer=adagrad, loss='sparse_categorical_crossentropy', metrics='accuracy')"
      ]
    },
    {
      "cell_type": "code",
      "execution_count": null,
      "metadata": {
        "id": "KkpbSMXWtakr"
      },
      "outputs": [],
      "source": [
        "rmsprop = keras.optimizers.RMSprop()\n",
        "model.compile(optimizer=rmsprop, loss='sparse_categorical_crossentropy', metrics='accuracy')"
      ]
    },
    {
      "cell_type": "code",
      "execution_count": null,
      "metadata": {
        "id": "Gdu0hQIAz4JW"
      },
      "outputs": [],
      "source": [
        "model = keras.Sequential()\n",
        "model.add(keras.layers.Flatten(input_shape=(28, 28)))\n",
        "model.add(keras.layers.Dense(100, activation='relu'))\n",
        "model.add(keras.layers.Dense(10, activation='softmax'))"
      ]
    },
    {
      "cell_type": "code",
      "execution_count": null,
      "metadata": {
        "colab": {
          "base_uri": "https://localhost:8080/"
        },
        "id": "2tcxIfILoi1t",
        "outputId": "64e7791b-7cd3-4d9d-87f7-46146735fe2b"
      },
      "outputs": [
        {
          "output_type": "stream",
          "name": "stdout",
          "text": [
            "Epoch 1/5\n",
            "1500/1500 [==============================] - 5s 3ms/step - loss: 0.5266 - accuracy: 0.8154\n",
            "Epoch 2/5\n",
            "1500/1500 [==============================] - 5s 3ms/step - loss: 0.3957 - accuracy: 0.8588\n",
            "Epoch 3/5\n",
            "1500/1500 [==============================] - 4s 3ms/step - loss: 0.3564 - accuracy: 0.8705\n",
            "Epoch 4/5\n",
            "1500/1500 [==============================] - 4s 3ms/step - loss: 0.3280 - accuracy: 0.8796\n",
            "Epoch 5/5\n",
            "1500/1500 [==============================] - 5s 3ms/step - loss: 0.3085 - accuracy: 0.8851\n"
          ]
        },
        {
          "output_type": "execute_result",
          "data": {
            "text/plain": [
              "<keras.src.callbacks.History at 0x791e70b14850>"
            ]
          },
          "metadata": {},
          "execution_count": 28
        }
      ],
      "source": [
        "model.compile(optimizer='adam', loss='sparse_categorical_crossentropy', metrics='accuracy')\n",
        "\n",
        "model.fit(train_scaled, train_target, epochs=5)"
      ]
    },
    {
      "cell_type": "code",
      "execution_count": null,
      "metadata": {
        "colab": {
          "base_uri": "https://localhost:8080/"
        },
        "id": "8gxAWehsv9Gi",
        "outputId": "1d0d8c32-81f9-4b7e-ab64-93f04431aa07"
      },
      "outputs": [
        {
          "output_type": "stream",
          "name": "stdout",
          "text": [
            "375/375 [==============================] - 1s 2ms/step - loss: 0.3485 - accuracy: 0.8763\n"
          ]
        },
        {
          "output_type": "execute_result",
          "data": {
            "text/plain": [
              "[0.3484817445278168, 0.8762500286102295]"
            ]
          },
          "metadata": {},
          "execution_count": 29
        }
      ],
      "source": [
        "model.evaluate(val_scaled, val_target)"
      ]
    }
  ],
  "metadata": {
    "accelerator": "GPU",
    "colab": {
      "provenance": [],
      "include_colab_link": true
    },
    "kernelspec": {
      "display_name": "default:Python",
      "language": "python",
      "name": "conda-env-default-py"
    },
    "language_info": {
      "codemirror_mode": {
        "name": "ipython",
        "version": 3
      },
      "file_extension": ".py",
      "mimetype": "text/x-python",
      "name": "python",
      "nbconvert_exporter": "python",
      "pygments_lexer": "ipython3",
      "version": "3.9.10"
    }
  },
  "nbformat": 4,
  "nbformat_minor": 0
}